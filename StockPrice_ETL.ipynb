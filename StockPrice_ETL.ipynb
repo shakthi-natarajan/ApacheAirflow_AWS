{
 "cells": [
  {
   "cell_type": "code",
   "execution_count": 2,
   "id": "2f51fc61",
   "metadata": {},
   "outputs": [
    {
     "name": "stdout",
     "output_type": "stream",
     "text": [
      "{'address1': 'One Microsoft Way', 'city': 'Redmond', 'state': 'WA', 'zip': '98052-6399', 'country': 'United States', 'phone': '425 882 8080', 'website': 'https://www.microsoft.com', 'industry': 'Software - Infrastructure', 'industryKey': 'software-infrastructure', 'industryDisp': 'Software - Infrastructure', 'sector': 'Technology', 'sectorKey': 'technology', 'sectorDisp': 'Technology', 'longBusinessSummary': 'Microsoft Corporation develops and supports software, services, devices and solutions worldwide. The Productivity and Business Processes segment offers office, exchange, SharePoint, Microsoft Teams, office 365 Security and Compliance, Microsoft viva, and Microsoft 365 copilot; and office consumer services, such as Microsoft 365 consumer subscriptions, Office licensed on-premises, and other office services. This segment also provides LinkedIn; and dynamics business solutions, including Dynamics 365, a set of intelligent, cloud-based applications across ERP, CRM, power apps, and power automate; and on-premises ERP and CRM applications. The Intelligent Cloud segment offers server products and cloud services, such as azure and other cloud services; SQL and windows server, visual studio, system center, and related client access licenses, as well as nuance and GitHub; and enterprise services including enterprise support services, industry solutions, and nuance professional services. The More Personal Computing segment offers Windows, including windows OEM licensing and other non-volume licensing of the Windows operating system; Windows commercial comprising volume licensing of the Windows operating system, windows cloud services, and other Windows commercial offerings; patent licensing; and windows Internet of Things; and devices, such as surface, HoloLens, and PC accessories. Additionally, this segment provides gaming, which includes Xbox hardware and content, and first- and third-party content; Xbox game pass and other subscriptions, cloud gaming, advertising, third-party disc royalties, and other cloud services; and search and news advertising, which includes Bing, Microsoft News and Edge, and third-party affiliates. The company sells its products through OEMs, distributors, and resellers; and directly through digital marketplaces, online, and retail stores. The company was founded in 1975 and is headquartered in Redmond, Washington.', 'fullTimeEmployees': 221000, 'companyOfficers': [{'maxAge': 1, 'name': 'Mr. Satya  Nadella', 'age': 56, 'title': 'Chairman & CEO', 'yearBorn': 1967, 'fiscalYear': 2023, 'totalPay': 9276400, 'exercisedValue': 0, 'unexercisedValue': 0}, {'maxAge': 1, 'name': 'Mr. Bradford L. Smith LCA', 'age': 64, 'title': 'President & Vice Chairman', 'yearBorn': 1959, 'fiscalYear': 2023, 'totalPay': 3591277, 'exercisedValue': 0, 'unexercisedValue': 0}, {'maxAge': 1, 'name': 'Ms. Amy E. Hood', 'age': 51, 'title': 'Executive VP & CFO', 'yearBorn': 1972, 'fiscalYear': 2023, 'totalPay': 3452196, 'exercisedValue': 0, 'unexercisedValue': 0}, {'maxAge': 1, 'name': 'Mr. Judson B. Althoff', 'age': 49, 'title': 'Executive VP & Chief Commercial Officer', 'yearBorn': 1974, 'fiscalYear': 2023, 'totalPay': 3355797, 'exercisedValue': 0, 'unexercisedValue': 0}, {'maxAge': 1, 'name': 'Mr. Christopher David Young', 'age': 51, 'title': 'Executive Vice President of Business Development, Strategy & Ventures', 'yearBorn': 1972, 'fiscalYear': 2023, 'totalPay': 2460507, 'exercisedValue': 0, 'unexercisedValue': 0}, {'maxAge': 1, 'name': 'Ms. Alice L. Jolla', 'age': 56, 'title': 'Corporate VP & Chief Accounting Officer', 'yearBorn': 1967, 'fiscalYear': 2023, 'exercisedValue': 0, 'unexercisedValue': 0}, {'maxAge': 1, 'name': 'Mr. James Kevin Scott', 'age': 51, 'title': 'Executive VP of AI & CTO', 'yearBorn': 1972, 'fiscalYear': 2023, 'exercisedValue': 0, 'unexercisedValue': 0}, {'maxAge': 1, 'name': 'Brett  Iversen', 'title': 'Vice President of Investor Relations', 'fiscalYear': 2023, 'exercisedValue': 0, 'unexercisedValue': 0}, {'maxAge': 1, 'name': 'Mr. Hossein  Nowbar', 'title': 'Chief Legal Officer', 'fiscalYear': 2023, 'exercisedValue': 0, 'unexercisedValue': 0}, {'maxAge': 1, 'name': 'Mr. Frank X. Shaw', 'title': 'Chief Communications Officer', 'fiscalYear': 2023, 'exercisedValue': 0, 'unexercisedValue': 0}], 'auditRisk': 2, 'boardRisk': 5, 'compensationRisk': 2, 'shareHolderRightsRisk': 2, 'overallRisk': 1, 'governanceEpochDate': 1709251200, 'compensationAsOfEpochDate': 1703980800, 'maxAge': 86400, 'priceHint': 2, 'previousClose': 415.1, 'open': 420.24, 'dayLow': 417.99, 'dayHigh': 427.81, 'regularMarketPreviousClose': 415.1, 'regularMarketOpen': 420.24, 'regularMarketDayLow': 417.99, 'regularMarketDayHigh': 427.81, 'dividendRate': 3.0, 'dividendYield': 0.0072000003, 'exDividendDate': 1715731200, 'payoutRatio': 0.2523, 'fiveYearAvgDividendYield': 0.97, 'beta': 0.89, 'trailingPE': 38.573753, 'forwardPE': 31.904192, 'volume': 22301108, 'regularMarketVolume': 22301108, 'averageVolume': 23203708, 'averageVolume10days': 20896540, 'averageDailyVolume10Day': 20896540, 'bid': 426.08, 'ask': 426.13, 'bidSize': 900, 'askSize': 900, 'marketCap': 3167150669824, 'fiftyTwoWeekLow': 263.28, 'fiftyTwoWeekHigh': 427.81, 'priceToSalesTrailing12Months': 13.916464, 'fiftyDayAverage': 400.875, 'twoHundredDayAverage': 356.52814, 'trailingAnnualDividendRate': 2.86, 'trailingAnnualDividendYield': 0.006889906, 'currency': 'USD', 'enterpriseValue': 3114750181376, 'profitMargins': 0.36269, 'floatShares': 7418919053, 'sharesOutstanding': 7430439936, 'sharesShort': 48235867, 'sharesShortPriorMonth': 49875453, 'sharesShortPreviousMonthDate': 1706659200, 'dateShortInterest': 1709164800, 'sharesPercentSharesOut': 0.0064999997, 'heldPercentInsiders': 0.00054000004, 'heldPercentInstitutions': 0.73831004, 'shortRatio': 2.02, 'shortPercentOfFloat': 0.0064999997, 'impliedSharesOutstanding': 7430439936, 'bookValue': 32.06, 'priceToBook': 13.295071, 'lastFiscalYearEnd': 1688083200, 'nextFiscalYearEnd': 1719705600, 'mostRecentQuarter': 1703980800, 'earningsQuarterlyGrowth': 0.332, 'netIncomeToCommon': 82541002752, 'trailingEps': 11.05, 'forwardEps': 13.36, 'pegRatio': 2.18, 'lastSplitFactor': '2:1', 'lastSplitDate': 1045526400, 'enterpriseToRevenue': 13.686, 'enterpriseToEbitda': 26.301, '52WeekChange': 0.5028964, 'SandP52WeekChange': 0.30427897, 'lastDividendValue': 0.75, 'lastDividendDate': 1707868800, 'exchange': 'NMS', 'quoteType': 'EQUITY', 'symbol': 'MSFT', 'underlyingSymbol': 'MSFT', 'shortName': 'Microsoft Corporation', 'longName': 'Microsoft Corporation', 'firstTradeDateEpochUtc': 511108200, 'timeZoneFullName': 'America/New_York', 'timeZoneShortName': 'EDT', 'uuid': 'b004b3ec-de24-385e-b2c1-923f10d3fb62', 'messageBoardId': 'finmb_21835', 'gmtOffSetMilliseconds': -14400000, 'currentPrice': 426.24, 'targetHighPrice': 546.44, 'targetLowPrice': 298.1, 'targetMeanPrice': 456.81, 'targetMedianPrice': 455.0, 'recommendationMean': 1.6, 'recommendationKey': 'buy', 'numberOfAnalystOpinions': 47, 'totalCash': 80981999616, 'totalCashPerShare': 10.899, 'ebitda': 118427000832, 'totalDebt': 111358001152, 'quickRatio': 1.096, 'currentRatio': 1.218, 'totalRevenue': 227583000576, 'debtToEquity': 46.736, 'revenuePerShare': 30.612, 'returnOnAssets': 0.1519, 'returnOnEquity': 0.39174, 'freeCashflow': 58680999936, 'operatingCashflow': 102646996992, 'earningsGrowth': 0.332, 'revenueGrowth': 0.176, 'grossMargins': 0.69815004, 'ebitdaMargins': 0.52037, 'operatingMargins': 0.43585998, 'financialCurrency': 'USD', 'trailingPegRatio': 2.1059}\n"
     ]
    }
   ],
   "source": [
    "import yfinance as yf\n",
    "# Requests allows us to make HTTP requests which we will use to get data from an API\n",
    "import requests\n",
    "# Pandas is a software library written for the Python programming language for data manipulation and analysis.\n",
    "import pandas as pd\n",
    "# NumPy is a library for the Python programming language, adding support for large, multi-dimensional arrays and matrices, along with a large collection of high-level mathematical functions to operate on these arrays\n",
    "import numpy as np\n",
    "# Datetime is a library that allows us to represent dates\n",
    "import datetime\n",
    "import json\n",
    "def run_historical_stockdata_etl():\n",
    "    url='https://financialmodelingprep.com/api/v3/historical-price-full/AAPL?apikey=7de4e3de926b39154f0185a1b7cfc7b9'\n",
    "    response = requests.get(url)\n",
    "    json_format=response.json()\n",
    "    df_aapl=pd.json_normalize(json_format, record_path=['historical'])\n",
    "    df_aapl.to_csv('s3://airflow-etl-aapl-de-s3/Apple_Historical_Price_5yr.csv')"
   ]
  }
 ],
 "metadata": {
  "kernelspec": {
   "display_name": "Python 3 (ipykernel)",
   "language": "python",
   "name": "python3"
  },
  "language_info": {
   "codemirror_mode": {
    "name": "ipython",
    "version": 3
   },
   "file_extension": ".py",
   "mimetype": "text/x-python",
   "name": "python",
   "nbconvert_exporter": "python",
   "pygments_lexer": "ipython3",
   "version": "3.9.7"
  }
 },
 "nbformat": 4,
 "nbformat_minor": 5
}
