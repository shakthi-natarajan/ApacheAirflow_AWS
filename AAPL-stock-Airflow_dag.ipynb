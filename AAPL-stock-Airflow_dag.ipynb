{
 "cells": [
  {
   "cell_type": "code",
   "execution_count": null,
   "id": "02b8bde8",
   "metadata": {},
   "outputs": [],
   "source": [
    "from datetime import timedelta\n",
    "from airflow import DAG\n",
    "from airflow.operators.python_operator import PythonOperator\n",
    "from airflow.utils.dates import days_ago\n",
    "from datetime import datetime\n",
    "from StockPrice_ETL import run_historical_stockdata_etl\n",
    "\n",
    "default_args = {\n",
    "    'owner': 'airflow',\n",
    "    'depends_on_past': False,\n",
    "    'start_date': datetime(2024, 3, 17),\n",
    "    'email': ['airflow@example.com'],\n",
    "    'email_on_failure': False,\n",
    "    'email_on_retry': False,\n",
    "    'retries': 1,\n",
    "    'retry_delay': timedelta(minutes=1)\n",
    "}\n",
    "\n",
    "dag = DAG(\n",
    "    'AAPL-stock-Airflow_dag',\n",
    "    default_args=default_args,\n",
    "    description='Our first DAG with ETL process!',\n",
    "    schedule_interval=timedelta(days=1),\n",
    ")\n",
    "\n",
    "run_etl = PythonOperator(\n",
    "    task_id='complete_AAPLstock_etl',\n",
    "    python_callable=run_historical_stockdata_etl,\n",
    "    dag=dag, \n",
    ")\n",
    "\n",
    "run_etl"
   ]
  }
 ],
 "metadata": {
  "kernelspec": {
   "display_name": "Python 3 (ipykernel)",
   "language": "python",
   "name": "python3"
  },
  "language_info": {
   "codemirror_mode": {
    "name": "ipython",
    "version": 3
   },
   "file_extension": ".py",
   "mimetype": "text/x-python",
   "name": "python",
   "nbconvert_exporter": "python",
   "pygments_lexer": "ipython3",
   "version": "3.9.7"
  }
 },
 "nbformat": 4,
 "nbformat_minor": 5
}
